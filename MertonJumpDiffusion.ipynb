{
 "cells": [
  {
   "cell_type": "markdown",
   "metadata": {},
   "source": [
    "# Merton Jump-Diffusion Model - Implied Volatility and Probability Density\n",
    "\n",
    "This notebook computes the implied volatility and probability density when the logarithmic asset price follows a jump-diffusion process with a normal jump size distribution. This is a sample implementation that is rather geared towards readability than efficiency."
   ]
  },
  {
   "cell_type": "code",
   "execution_count": 79,
   "metadata": {
    "collapsed": true
   },
   "outputs": [],
   "source": [
    "import numpy\n",
    "import scipy.stats as stats\n",
    "import matplotlib.pyplot as pyplot\n",
    "import math\n",
    "%matplotlib inline"
   ]
  },
  {
   "cell_type": "markdown",
   "metadata": {},
   "source": [
    "## Characteristic Functions & Cumulants\n",
    "\n",
    "The characteristic function $\\phi_{X_t}(\\omega)$ and cumulants $c_{X_t}(n)$ of the Merton (1976) jump-diffusion model. The logarithmic return proces $X_t = \\ln \\left( S_t / S_0 \\right)$ is given by\n",
    "\n",
    "\\begin{equation}\n",
    "X_t = \\gamma t + \\sigma W_t + \\sum_{i = 1}^{N_t} Y_i.\n",
    "\\end{equation}\n",
    "\n",
    "Here, $N$ is a Poisson process with intensity $\\eta \\in \\mathbb{R}_+$ and $\\left( Y_i \\right)_{i = 1}^\\infty$ is a sequence of i.i.d. normal random variables with distribution $\\mathcal{N} \\left( \\alpha, \\beta^2 \\right)$. $\\gamma$ is the risk-neutral drift of the logarithmic spot price such that\n",
    "\n",
    "\\begin{equation}\n",
    "\\mathbb{E} \\left[ e^{X_t} \\right] = e^{(r - q) t},\n",
    "\\end{equation}\n",
    "\n",
    "where $r$ and $q$ are the risk-free interest rate and dividend yield, respectively. We have\n",
    "\n",
    "\\begin{equation}\n",
    "\\gamma = r - q - \\frac{1}{2} \\sigma^2 - \\eta \\left( \\phi_Y(-\\mathrm{i}) - 1 \\right),\n",
    "\\end{equation}\n",
    "\n",
    "where $\\phi_Y(\\omega)$ is the characteristic function of the random jumps."
   ]
  },
  {
   "cell_type": "code",
   "execution_count": 127,
   "metadata": {
    "collapsed": true
   },
   "outputs": [],
   "source": [
    "def characteristicNormal(omega, mu, sigma):\n",
    "    phi = numpy.exp(1j * omega * mu - 0.5 * omega * omega * sigma * sigma)\n",
    "    return phi\n",
    "\n",
    "def characteristicMerton(omega, maturity, rate, dividend, volatility, eta, alpha, beta):\n",
    "    phi = numpy.exp(maturity * (1j * omega * (rate - dividend - 0.5 * volatility * volatility - eta * (characteristicNormal(-1j, alpha, beta) - 1)) - 0.5 * omega * omega * volatility * volatility + eta * (characteristicNormal(omega, alpha, beta) - 1)))\n",
    "    return phi\n",
    "\n",
    "def cumulantsMerton(maturity, rate, dividend, volatility, eta, alpha, beta):\n",
    "    cumulants = numpy.zeros(4)\n",
    "    cumulants[0] = rate - dividend - 0.5 * volatility * volatility - eta * (characteristicNormal(-1j, alpha, beta) - 1) + eta * alpha\n",
    "    cumulants[1] = volatility * volatility + eta * (alpha * alpha + beta * beta)\n",
    "    cumulants[2] = eta * alpha * (alpha * alpha + 3 * beta * beta)\n",
    "    cumulants[3] = eta * (alpha * alpha * alpha * alpha + 6 * alpha * alpha * beta * beta + 3 * beta * beta * beta * beta)\n",
    "    cumulants = cumulants * maturity\n",
    "    return cumulants\n",
    "\n",
    "def momentsFromCumulants(cumulants):\n",
    "    moments = numpy.zeros(4)\n",
    "    moments[0] = cumulants[0]\n",
    "    moments[1] = cumulants[1]\n",
    "    moments[2] = cumulants[2] / numpy.power(cumulants[1], 1.5)\n",
    "    moments[3] = cumulants[3] / numpy.power(cumulants[1], 2.0)\n",
    "    return moments"
   ]
  },
  {
   "cell_type": "markdown",
   "metadata": {},
   "source": [
    "## Generic European Plain Vanilla Pricer\n",
    "\n",
    "European plain vanilla pricer using the Fang and Oosterlee (2008) Fourier cosine series method. Note that the COS method requires the characteristic function and cumulants of $Z_t = \\ln \\left( S_t / K \\right)$. These can be expressed in terms of $\\phi_{X_t}(\\omega)$ and $c_{X_t}(n)$ as\n",
    "\n",
    "\\begin{equation}\n",
    "\\phi_{Z_t}(\\omega) = e^{\\mathrm{i} \\omega \\ln \\left( S_0 / K \\right)} \\phi_{X_t}(\\omega)\n",
    "\\end{equation}\n",
    "\n",
    "and\n",
    "\n",
    "\\begin{equation}\n",
    "c_{Z_t}(n) = \\ln \\left( S_0 / K \\right) \\mathrm{1} \\{ n = 1 \\} + c_{X_t}(n).\n",
    "\\end{equation}"
   ]
  },
  {
   "cell_type": "code",
   "execution_count": 106,
   "metadata": {
    "collapsed": true
   },
   "outputs": [],
   "source": [
    "def vanillaCOSMethod(phi, cumulants, maturity, strike, rate):\n",
    "    N = 2**10\n",
    "    \n",
    "    span = numpy.sqrt(cumulants[1] + numpy.sqrt(cumulants[3]))\n",
    "    a = cumulants[0] - 10.0 * span\n",
    "    b = cumulants[0] + 10.0 * span\n",
    "    def chiFunction(k, c, d):\n",
    "        temp = k * numpy.pi / (b - a)\n",
    "        result = numpy.cos(temp * (d - a)) * numpy.exp(d)\n",
    "        result -= numpy.cos(temp * (c - a)) * numpy.exp(c)\n",
    "        result += temp * numpy.sin(temp * (d - a)) * numpy.exp(d)\n",
    "        result -= temp * numpy.sin(temp * (c - a)) * numpy.exp(c)\n",
    "        result /= (1 + temp * temp)\n",
    "        return result\n",
    "    def psiFunction(k, c, d):\n",
    "        temp = k * numpy.pi / (b - a)\n",
    "        result = (numpy.sin(temp * (d - a)) - numpy.sin(temp * (c - a))) / temp\n",
    "        result[k == 0] = d - c\n",
    "        return result\n",
    "    def vFunction(k):\n",
    "        return 2 * strike * (psiFunction(k, a, 0) - chiFunction(k, a, 0)) / (b - a)\n",
    "    k = numpy.arange(float(N))\n",
    "    temp = k * numpy.pi / (b - a)\n",
    "    elementVector = numpy.real(phi(temp) * numpy.exp(-1j * a * temp)) * vFunction(k)\n",
    "    elementVector[0] *= 0.5\n",
    "    price = numpy.exp(-rate * maturity) * numpy.sum(elementVector)\n",
    "    return price \n",
    "\n",
    "def vanillaMerton(maturity, strike, isCall, spot, rate, dividend, volatility, eta, alpha, beta):\n",
    "    flag = 1 if isCall else -1\n",
    "    cumulants = cumulantsMerton(maturity, rate, dividend, volatility, eta, alpha, beta)\n",
    "    cumulants[0] += numpy.log(spot / strike)\n",
    "    adjustedPhi = lambda omega: numpy.exp(1j * omega * numpy.log(spot / strike)) * characteristicMerton(omega, maturity, rate, dividend, volatility, eta, alpha, beta)\n",
    "    price = vanillaCOSMethod(adjustedPhi, cumulants, maturity, strike, rate)\n",
    "    if (flag == 1):\n",
    "        price += spot - strike * numpy.exp(-rate * maturity)\n",
    "    return price"
   ]
  },
  {
   "cell_type": "markdown",
   "metadata": {},
   "source": [
    "## Generic Implied Density Computation\n",
    "\n",
    "We also use the COS method to compute the model implied density of $X_t$."
   ]
  },
  {
   "cell_type": "code",
   "execution_count": 107,
   "metadata": {
    "collapsed": true
   },
   "outputs": [],
   "source": [
    "def impliedDensityCOSMethod(phi, cumulants, xValues):\n",
    "    N = 2**10\n",
    "    \n",
    "    span = numpy.sqrt(cumulants[1] + numpy.sqrt(cumulants[3]))\n",
    "    a = cumulants[0] - 10.0 * span\n",
    "    b = cumulants[0] + 10.0 * span\n",
    "    k = numpy.arange(float(N))\n",
    "    temp = k * numpy.pi / (b - a)\n",
    "    elementVector = 2.0 * numpy.real(phi(temp) * numpy.exp(-1j * temp * a)) / (b - a)\n",
    "    elementVector[0] *= 0.5\n",
    "    yValues = [numpy.sum(elementVector * numpy.cos(temp * (xValues[i] - a))) for i in xrange(len(xValues))]\n",
    "    return yValues\n",
    "\n",
    "def impliedDensityMerton(maturity, xValues, rate, dividend, volatility, eta, alpha, beta):\n",
    "    cumulants = cumulantsMerton(maturity, rate, dividend, volatility, eta, alpha, beta)\n",
    "    yValues = impliedDensityCOSMethod(lambda omega: characteristicMerton(omega, maturity, rate, dividend, volatility, eta, alpha, beta), cumulants, xValues)\n",
    "    return yValues"
   ]
  },
  {
   "cell_type": "markdown",
   "metadata": {},
   "source": [
    "## Black-Scholes European Plain Vanilla Pricer\n",
    "\n",
    "Analytic European plain vanilla in the Black and Scholes (1973) model with delta, gamma and vega."
   ]
  },
  {
   "cell_type": "code",
   "execution_count": 108,
   "metadata": {
    "collapsed": true
   },
   "outputs": [],
   "source": [
    "def vanillaBlackScholes(maturity, strike, isCall, spot, rate, dividend, volatility):\n",
    "    flag = 1 if isCall else -1\n",
    "    totalVolatility = volatility * numpy.sqrt(maturity)\n",
    "    dPlus = (numpy.log(spot / strike) + rate - dividend + 0.5 * totalVolatility * totalVolatility) / totalVolatility\n",
    "    dMinus = dPlus - totalVolatility\n",
    "    delta = flag * numpy.exp(-dividend * maturity) * stats.norm.cdf(flag * dPlus)\n",
    "    gamma = numpy.exp(-dividend * maturity) * stats.norm.pdf(dPlus) / (spot * totalVolatility)\n",
    "    vega = gamma * spot * spot * volatility * maturity\n",
    "    price = delta * spot - flag * strike * numpy.exp(-rate * maturity) * stats.norm.cdf(flag * dMinus)\n",
    "    return price, delta, gamma, vega"
   ]
  },
  {
   "cell_type": "markdown",
   "metadata": {},
   "source": [
    "## Implied Volatility Computation\n",
    "\n",
    "We try to find a first guess using the Corrado and Miller (1996) approximation. If that fails, a standard starting value is used. The implied volatility is computed using a Newton algorithm."
   ]
  },
  {
   "cell_type": "code",
   "execution_count": 109,
   "metadata": {
    "collapsed": true
   },
   "outputs": [],
   "source": [
    "def corradoMillerApproximation(maturity, strike, isCall, spot, rate, dividend, market_price):\n",
    "    flag = 1.0 if isCall else -1.0\n",
    "    forward = spot * numpy.exp((rate - dividend) * maturity)\n",
    "    rootTwoPi = numpy.sqrt(2.0 * numpy.pi)\n",
    "    a = (forward + strike) / (2.0 * rootTwoPi)\n",
    "    b = 0.5 * flag * (forward - strike) - numpy.exp(rate * maturity) * market_price\n",
    "    c = numpy.log(forward / strike) * (forward - strike) / rootTwoPi\n",
    "    d = b * b - 4.0 * a * c\n",
    "    impliedVolatility = float(\"NaN\")\n",
    "    if (d >= 0.0):\n",
    "        impliedVolatility = (-b + numpy.sqrt(b * b - 4 * a * c)) / (2.0 * a)\n",
    "    return impliedVolatility\n",
    "\n",
    "def impliedVolatility(maturity, strike, isCall, spot, rate, dividend, marketPrice):\n",
    "    INITIAL_GUESS = 0.2\n",
    "    MAX_STEP = 0.1\n",
    "    STEP_FACTOR = 0.5\n",
    "    CONVERGENCE_THRESHOLD = 0.0001\n",
    "    MAX_ITERATIONS = 50\n",
    "    \n",
    "    initialGuess = corradoMillerApproximation(maturity, strike, isCall, spot, rate, dividend, marketPrice)\n",
    "    if initialGuess.imag != 0 or math.isnan(initialGuess):\n",
    "        initialGuess = INITIAL_GUESS\n",
    "    maxStep = numpy.min(STEP_FACTOR * initialGuess, MAX_STEP)\n",
    "    isConverged = False\n",
    "    impliedVolatility = initialGuess\n",
    "    iterationNumber = 0\n",
    "    while not isConverged and iterationNumber < MAX_ITERATIONS:\n",
    "        iterationNumber = iterationNumber + 1\n",
    "        price, _, _, vega = vanillaBlackScholes(maturity, strike, isCall, spot, rate, dividend, impliedVolatility)\n",
    "        volatilityStep = (marketPrice - price) / vega\n",
    "        if numpy.abs(volatilityStep) > maxStep:\n",
    "            volatilityStep = numpy.sign(volatilityStep) * maxStep\n",
    "        impliedVolatility = impliedVolatility + volatilityStep\n",
    "        if numpy.abs(volatilityStep) < CONVERGENCE_THRESHOLD:\n",
    "            isConverged = True\n",
    "    return (impliedVolatility, isConverged)"
   ]
  },
  {
   "cell_type": "markdown",
   "metadata": {},
   "source": [
    "## Plots"
   ]
  },
  {
   "cell_type": "code",
   "execution_count": 117,
   "metadata": {
    "collapsed": true
   },
   "outputs": [],
   "source": [
    "# market and model settings\n",
    "maturity = 1.0 / 12.0\n",
    "spot = 100.0\n",
    "rate = 0.0\n",
    "dividend = 0.0\n",
    "volatility = 0.2\n",
    "eta = 25.0\n",
    "alpha = 0.0\n",
    "betas = [0.0, 0.01, 0.02]"
   ]
  },
  {
   "cell_type": "code",
   "execution_count": 120,
   "metadata": {},
   "outputs": [
    {
     "name": "stderr",
     "output_type": "stream",
     "text": [
      "/Users/matthias/anaconda/lib/python2.7/site-packages/ipykernel/__main__.py:11: ComplexWarning: Casting complex values to real discards the imaginary part\n",
      "/Users/matthias/anaconda/lib/python2.7/site-packages/ipykernel/__main__.py:17: RuntimeWarning: invalid value encountered in divide\n"
     ]
    },
    {
     "data": {
      "image/png": "[encoded data removed]",
      "text/plain": [
       "<matplotlib.figure.Figure at 0x1157877d0>"
      ]
     },
     "metadata": {},
     "output_type": "display_data"
    }
   ],
   "source": [
    "# plot the implied volatility smiles\n",
    "strikes = numpy.linspace(80.0, 120.0, 41)\n",
    "for beta in betas:\n",
    "    prices = [vanillaMerton(maturity, strike, True, spot, rate, dividend, volatility, eta, alpha, beta) for strike in strikes]\n",
    "    impliedVolatilities = [impliedVolatility(maturity, strike, True, spot, rate, dividend, price)[0] for (strike, price) in zip(strikes, prices)]\n",
    "    pyplot.plot(strikes, impliedVolatilities)\n",
    "pyplot.grid(True)\n",
    "pyplot.xlabel(\"strike\")\n",
    "pyplot.ylabel(\"implied volatility\")\n",
    "pyplot.title(\"implied volatility smiles\")\n",
    "pyplot.savefig(\"ImpliedVolatilitySmiles.png\")"
   ]
  },
  {
   "cell_type": "code",
   "execution_count": 122,
   "metadata": {},
   "outputs": [
    {
     "name": "stderr",
     "output_type": "stream",
     "text": [
      "/Users/matthias/anaconda/lib/python2.7/site-packages/ipykernel/__main__.py:11: ComplexWarning: Casting complex values to real discards the imaginary part\n"
     ]
    },
    {
     "data": {
      "image/png": "[encoded data removed]",
      "text/plain": [
       "<matplotlib.figure.Figure at 0x11665b510>"
      ]
     },
     "metadata": {},
     "output_type": "display_data"
    }
   ],
   "source": [
    "# plot the implied densities\n",
    "returns = numpy.linspace(-0.2, 0.2, 41)\n",
    "axis2 = pyplot.plot()\n",
    "for beta in betas:\n",
    "    densities = impliedDensityMerton(maturity, returns, rate, dividend, volatility, eta, alpha, beta)\n",
    "    pyplot.plot(returns, densities)\n",
    "pyplot.grid(True)\n",
    "pyplot.xlabel(\"strike\")\n",
    "pyplot.ylabel(\"logarithmic return\")\n",
    "pyplot.title(\"implied densities\")\n",
    "pyplot.savefig(\"ImpliedDensities.png\")"
   ]
  },
  {
   "cell_type": "code",
   "execution_count": 146,
   "metadata": {},
   "outputs": [
    {
     "name": "stderr",
     "output_type": "stream",
     "text": [
      "/Users/matthias/anaconda/lib/python2.7/site-packages/ipykernel/__main__.py:11: ComplexWarning: Casting complex values to real discards the imaginary part\n"
     ]
    },
    {
     "data": {
      "image/png": "[encoded data removed]",
      "text/plain": [
       "<matplotlib.figure.Figure at 0x110cb8e10>"
      ]
     },
     "metadata": {},
     "output_type": "display_data"
    }
   ],
   "source": [
    "# plot the excess kurtosis as a function of beta\n",
    "alpha = 0.0\n",
    "betas = numpy.linspace(0.0, 0.1, 21)\n",
    "kurtosis = [momentsFromCumulants(cumulantsMerton(maturity, rate, dividend, volatility, eta, alpha, beta))[3] for beta in betas]\n",
    "pyplot.plot(betas, kurtosis)\n",
    "pyplot.grid(True)\n",
    "pyplot.xlim([betas[0], betas[-1]])\n",
    "pyplot.xlabel(\"beta\")\n",
    "pyplot.ylabel(\"excess kurtosis\")\n",
    "pyplot.title(\"excess kurtosis as a function of beta\")\n",
    "pyplot.savefig(\"ExcessKurtosisJumpVolatility.png\")"
   ]
  },
  {
   "cell_type": "code",
   "execution_count": 144,
   "metadata": {},
   "outputs": [
    {
     "name": "stderr",
     "output_type": "stream",
     "text": [
      "/Users/matthias/anaconda/lib/python2.7/site-packages/ipykernel/__main__.py:11: ComplexWarning: Casting complex values to real discards the imaginary part\n"
     ]
    },
    {
     "data": {
      "image/png": "[encoded data removed]",
      "text/plain": [
       "<matplotlib.figure.Figure at 0x117776810>"
      ]
     },
     "metadata": {},
     "output_type": "display_data"
    }
   ],
   "source": [
    "# plot the skewness as a function of alpha\n",
    "beta = 0.02\n",
    "alphas = numpy.linspace(-0.05, 0.05, 21)\n",
    "skewness = [momentsFromCumulants(cumulantsMerton(maturity, rate, dividend, volatility, eta, alpha, beta))[2] for alpha in alphas]\n",
    "pyplot.plot(alphas, skewness)\n",
    "pyplot.grid(True)\n",
    "pyplot.xlim([alphas[0], alphas[-1]])\n",
    "pyplot.xlabel(\"beta\")\n",
    "pyplot.ylabel(\"skewness\")\n",
    "pyplot.title(\"skewness as a function of beta\")\n",
    "pyplot.savefig(\"SkewnesssJumpMean.png\")"
   ]
  },
  {
   "cell_type": "code",
   "execution_count": null,
   "metadata": {
    "collapsed": true
   },
   "outputs": [],
   "source": []
  }
 ],
 "metadata": {
  "kernelspec": {
   "display_name": "Python [Root]",
   "language": "python",
   "name": "Python [Root]"
  },
  "language_info": {
   "codemirror_mode": {
    "name": "ipython",
    "version": 2
   },
   "file_extension": ".py",
   "mimetype": "text/x-python",
   "name": "python",
   "nbconvert_exporter": "python",
   "pygments_lexer": "ipython2",
   "version": "2.7.12"
  }
 },
 "nbformat": 4,
 "nbformat_minor": 1
}
